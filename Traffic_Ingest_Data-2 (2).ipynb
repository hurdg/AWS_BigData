{
  "cells": [
    {
      "cell_type": "markdown",
      "metadata": {
        "id": "fO_T4Y-2v8v-"
      },
      "source": [
        "## Step 1: Ingest Data\n",
        "\n",
        "We will use RESTful API to retrieve traffic camera data from the public City of Calgary website https://data.calgary.ca/Transportation-Transit/Traffic-Cameras/k7p9-kppz/about_data\n",
        "\n",
        "We will use the python library to help make our requests."
      ]
    },
    {
      "cell_type": "code",
      "execution_count": 1,
      "metadata": {
        "colab": {
          "base_uri": "https://localhost:8080/",
          "height": 204
        },
        "id": "KMDmI0Fjs82s",
        "outputId": "d032cce4-db0a-494c-8e09-28bb7892588f"
      },
      "outputs": [
        {
          "data": {
            "text/html": [
              "<div>\n",
              "<style scoped>\n",
              "    .dataframe tbody tr th:only-of-type {\n",
              "        vertical-align: middle;\n",
              "    }\n",
              "\n",
              "    .dataframe tbody tr th {\n",
              "        vertical-align: top;\n",
              "    }\n",
              "\n",
              "    .dataframe thead th {\n",
              "        text-align: right;\n",
              "    }\n",
              "</style>\n",
              "<table border=\"1\" class=\"dataframe\">\n",
              "  <thead>\n",
              "    <tr style=\"text-align: right;\">\n",
              "      <th></th>\n",
              "      <th>camera_url</th>\n",
              "      <th>quadrant</th>\n",
              "      <th>camera_location</th>\n",
              "      <th>point</th>\n",
              "    </tr>\n",
              "  </thead>\n",
              "  <tbody>\n",
              "    <tr>\n",
              "      <th>0</th>\n",
              "      <td>Camera 87 (http://trafficcam.calgary.ca/loc86....</td>\n",
              "      <td>SE</td>\n",
              "      <td>Stoney Trail / Deerfoot Trail SE</td>\n",
              "      <td>POINT (-113.9766063 50.9007257)</td>\n",
              "    </tr>\n",
              "    <tr>\n",
              "      <th>1</th>\n",
              "      <td>Camera 141 (http://trafficcam.calgary.ca/loc14...</td>\n",
              "      <td>SW</td>\n",
              "      <td>17 Avenue / 69 Street SW</td>\n",
              "      <td>POINT (-114.1873508 51.0380985)</td>\n",
              "    </tr>\n",
              "    <tr>\n",
              "      <th>2</th>\n",
              "      <td>Camera 4 (http://trafficcam.calgary.ca/loc3.jpg)</td>\n",
              "      <td>NE</td>\n",
              "      <td>Memorial Drive / 52 Street E</td>\n",
              "      <td>POINT (-113.9558182 51.053253)</td>\n",
              "    </tr>\n",
              "    <tr>\n",
              "      <th>3</th>\n",
              "      <td>Camera 38 (https://trafficcam.calgary.ca/loc37...</td>\n",
              "      <td>NW</td>\n",
              "      <td>Crowchild Trail / Shaganappi Trail NW</td>\n",
              "      <td>POINT (-114.149379 51.0988494)</td>\n",
              "    </tr>\n",
              "    <tr>\n",
              "      <th>4</th>\n",
              "      <td>Camera 127 (http://trafficcam.calgary.ca/loc12...</td>\n",
              "      <td>NW</td>\n",
              "      <td>Crowchild Trail / Sarcee Trail NW</td>\n",
              "      <td>POINT (-114.1782042 51.1112551)</td>\n",
              "    </tr>\n",
              "  </tbody>\n",
              "</table>\n",
              "</div>"
            ],
            "text/plain": [
              "                                          camera_url quadrant  \\\n",
              "0  Camera 87 (http://trafficcam.calgary.ca/loc86....       SE   \n",
              "1  Camera 141 (http://trafficcam.calgary.ca/loc14...       SW   \n",
              "2   Camera 4 (http://trafficcam.calgary.ca/loc3.jpg)       NE   \n",
              "3  Camera 38 (https://trafficcam.calgary.ca/loc37...       NW   \n",
              "4  Camera 127 (http://trafficcam.calgary.ca/loc12...       NW   \n",
              "\n",
              "                         camera_location                            point  \n",
              "0       Stoney Trail / Deerfoot Trail SE  POINT (-113.9766063 50.9007257)  \n",
              "1               17 Avenue / 69 Street SW  POINT (-114.1873508 51.0380985)  \n",
              "2           Memorial Drive / 52 Street E   POINT (-113.9558182 51.053253)  \n",
              "3  Crowchild Trail / Shaganappi Trail NW   POINT (-114.149379 51.0988494)  \n",
              "4      Crowchild Trail / Sarcee Trail NW  POINT (-114.1782042 51.1112551)  "
            ]
          },
          "metadata": {},
          "output_type": "display_data"
        }
      ],
      "source": [
        "import requests\n",
        "import pandas as pd\n",
        "import io\n",
        "\n",
        "api_url = 'https://data.calgary.ca/resource/k7p9-kppz.csv'\n",
        "\n",
        "\n",
        "response = requests.get(api_url)\n",
        "\n",
        "if response.status_code == 200:\n",
        "  data = io.StringIO(response.text)\n",
        "  df = pd.read_csv(data)\n",
        "  display(df.head())\n",
        "else:\n",
        "  print(\"Failed to get data\")"
      ]
    },
    {
      "cell_type": "code",
      "execution_count": 2,
      "metadata": {
        "colab": {
          "base_uri": "https://localhost:8080/"
        },
        "id": "7zoEIftjzMzE",
        "outputId": "f279d5b5-d0f9-468a-bc62-3ca4eef08666"
      },
      "outputs": [
        {
          "name": "stdout",
          "output_type": "stream",
          "text": [
            "<class 'pandas.core.frame.DataFrame'>\n",
            "RangeIndex: 173 entries, 0 to 172\n",
            "Data columns (total 4 columns):\n",
            " #   Column           Non-Null Count  Dtype \n",
            "---  ------           --------------  ----- \n",
            " 0   camera_url       173 non-null    object\n",
            " 1   quadrant         173 non-null    object\n",
            " 2   camera_location  173 non-null    object\n",
            " 3   point            173 non-null    object\n",
            "dtypes: object(4)\n",
            "memory usage: 5.5+ KB\n"
          ]
        }
      ],
      "source": [
        "df.info()"
      ]
    },
    {
      "cell_type": "code",
      "execution_count": 3,
      "metadata": {
        "colab": {
          "base_uri": "https://localhost:8080/",
          "height": 204
        },
        "id": "_1ImgbYYzZY8",
        "outputId": "4833a0f2-3d72-4cfd-d798-8d593a9aee0b"
      },
      "outputs": [
        {
          "data": {
            "text/html": [
              "<div>\n",
              "<style scoped>\n",
              "    .dataframe tbody tr th:only-of-type {\n",
              "        vertical-align: middle;\n",
              "    }\n",
              "\n",
              "    .dataframe tbody tr th {\n",
              "        vertical-align: top;\n",
              "    }\n",
              "\n",
              "    .dataframe thead th {\n",
              "        text-align: right;\n",
              "    }\n",
              "</style>\n",
              "<table border=\"1\" class=\"dataframe\">\n",
              "  <thead>\n",
              "    <tr style=\"text-align: right;\">\n",
              "      <th></th>\n",
              "      <th>quadrant</th>\n",
              "      <th>camera_location</th>\n",
              "      <th>Camera_Number</th>\n",
              "      <th>URL</th>\n",
              "      <th>longitude</th>\n",
              "      <th>latitude</th>\n",
              "    </tr>\n",
              "  </thead>\n",
              "  <tbody>\n",
              "    <tr>\n",
              "      <th>0</th>\n",
              "      <td>SE</td>\n",
              "      <td>Stoney Trail / Deerfoot Trail SE</td>\n",
              "      <td>87</td>\n",
              "      <td>http://trafficcam.calgary.ca/loc86.jpg</td>\n",
              "      <td>-113.976606</td>\n",
              "      <td>50.900726</td>\n",
              "    </tr>\n",
              "    <tr>\n",
              "      <th>1</th>\n",
              "      <td>SW</td>\n",
              "      <td>17 Avenue / 69 Street SW</td>\n",
              "      <td>141</td>\n",
              "      <td>http://trafficcam.calgary.ca/loc140.jpg</td>\n",
              "      <td>-114.187351</td>\n",
              "      <td>51.038098</td>\n",
              "    </tr>\n",
              "    <tr>\n",
              "      <th>2</th>\n",
              "      <td>NE</td>\n",
              "      <td>Memorial Drive / 52 Street E</td>\n",
              "      <td>4</td>\n",
              "      <td>http://trafficcam.calgary.ca/loc3.jpg</td>\n",
              "      <td>-113.955818</td>\n",
              "      <td>51.053253</td>\n",
              "    </tr>\n",
              "    <tr>\n",
              "      <th>3</th>\n",
              "      <td>NW</td>\n",
              "      <td>Crowchild Trail / Shaganappi Trail NW</td>\n",
              "      <td>38</td>\n",
              "      <td>https://trafficcam.calgary.ca/loc37.jpg</td>\n",
              "      <td>-114.149379</td>\n",
              "      <td>51.098849</td>\n",
              "    </tr>\n",
              "    <tr>\n",
              "      <th>4</th>\n",
              "      <td>NW</td>\n",
              "      <td>Crowchild Trail / Sarcee Trail NW</td>\n",
              "      <td>127</td>\n",
              "      <td>http://trafficcam.calgary.ca/loc126.jpg</td>\n",
              "      <td>-114.178204</td>\n",
              "      <td>51.111255</td>\n",
              "    </tr>\n",
              "  </tbody>\n",
              "</table>\n",
              "</div>"
            ],
            "text/plain": [
              "  quadrant                        camera_location Camera_Number  \\\n",
              "0       SE       Stoney Trail / Deerfoot Trail SE            87   \n",
              "1       SW               17 Avenue / 69 Street SW           141   \n",
              "2       NE           Memorial Drive / 52 Street E             4   \n",
              "3       NW  Crowchild Trail / Shaganappi Trail NW            38   \n",
              "4       NW      Crowchild Trail / Sarcee Trail NW           127   \n",
              "\n",
              "                                       URL   longitude   latitude  \n",
              "0   http://trafficcam.calgary.ca/loc86.jpg -113.976606  50.900726  \n",
              "1  http://trafficcam.calgary.ca/loc140.jpg -114.187351  51.038098  \n",
              "2    http://trafficcam.calgary.ca/loc3.jpg -113.955818  51.053253  \n",
              "3  https://trafficcam.calgary.ca/loc37.jpg -114.149379  51.098849  \n",
              "4  http://trafficcam.calgary.ca/loc126.jpg -114.178204  51.111255  "
            ]
          },
          "metadata": {},
          "output_type": "display_data"
        }
      ],
      "source": [
        "df[['Camera_Number', 'URL']] = df['camera_url'].str.extract(r'Camera (\\d+) \\((http[^\\)]+)\\)')\n",
        "df[['longitude', 'latitude']] = df['point'].str.extract(r'POINT \\(([^ ]+) ([^ ]+)\\)', expand=True)\n",
        "df['latitude'] = pd.to_numeric(df['latitude'])\n",
        "df['longitude'] = pd.to_numeric(df['longitude'])\n",
        "df.drop(columns=['camera_url','point'], inplace = True)\n",
        "display(df.head())"
      ]
    },
    {
      "cell_type": "code",
      "execution_count": 4,
      "metadata": {
        "colab": {
          "base_uri": "https://localhost:8080/",
          "height": 41
        },
        "id": "ee57b7Gq1p_f",
        "outputId": "dd5e4f05-626b-4dfd-8968-3b6041cf384f"
      },
      "outputs": [
        {
          "data": {
            "text/html": [
              "<img src=\"http://trafficcam.calgary.ca/loc29.jpg\"/>"
            ],
            "text/plain": [
              "<IPython.core.display.Image object>"
            ]
          },
          "metadata": {},
          "output_type": "display_data"
        }
      ],
      "source": [
        "from IPython.display import Image, display\n",
        "\n",
        "\n",
        "image_url = 'http://trafficcam.calgary.ca/loc29.jpg'\n",
        "\n",
        "display(Image(url=image_url))\n"
      ]
    },
    {
      "cell_type": "code",
      "execution_count": 5,
      "metadata": {
        "colab": {
          "base_uri": "https://localhost:8080/"
        },
        "id": "03Eh6Fg-2sCp",
        "outputId": "f74136b7-290d-47d5-f5fd-34a58e92c0b0"
      },
      "outputs": [
        {
          "name": "stdout",
          "output_type": "stream",
          "text": [
            "Note: not using Google CoLab\n"
          ]
        }
      ],
      "source": [
        "try:\n",
        "    from google.colab import drive\n",
        "    COLAB = True\n",
        "    print(\"Note: using Google CoLab\")\n",
        "except:\n",
        "    print(\"Note: not using Google CoLab\")\n",
        "    COLAB = False"
      ]
    },
    {
      "cell_type": "code",
      "execution_count": 11,
      "metadata": {
        "colab": {
          "base_uri": "https://localhost:8080/"
        },
        "id": "R5HqbyE93XBf",
        "outputId": "25ed8c21-1788-449d-ddbd-188b4e4e02bb"
      },
      "outputs": [
        {
          "name": "stderr",
          "output_type": "stream",
          "text": [
            "fatal: Too many arguments.\n",
            "\n",
            "usage: git clone [<options>] [--] <repo> [<dir>]\n",
            "\n",
            "    -v, --[no-]verbose    be more verbose\n",
            "    -q, --[no-]quiet      be more quiet\n",
            "    --[no-]progress       force progress reporting\n",
            "    --[no-]reject-shallow don't clone shallow repository\n",
            "    -n, --no-checkout     don't create a checkout\n",
            "    --checkout            opposite of --no-checkout\n",
            "    --[no-]bare           create a bare repository\n",
            "    --[no-]mirror         create a mirror repository (implies bare)\n",
            "    -l, --[no-]local      to clone from a local repository\n",
            "    --no-hardlinks        don't use local hardlinks, always copy\n",
            "    --hardlinks           opposite of --no-hardlinks\n",
            "    -s, --[no-]shared     setup as shared repository\n",
            "    --[no-]recurse-submodules[=<pathspec>]\n",
            "                          initialize submodules in the clone\n",
            "    --[no-]recursive ...  alias of --recurse-submodules\n",
            "    -j, --[no-]jobs <n>   number of submodules cloned in parallel\n",
            "    --[no-]template <template-directory>\n",
            "                          directory from which templates will be used\n",
            "    --[no-]reference <repo>\n",
            "                          reference repository\n",
            "    --[no-]reference-if-able <repo>\n",
            "                          reference repository\n",
            "    --[no-]dissociate     use --reference only while cloning\n",
            "    -o, --[no-]origin <name>\n",
            "                          use <name> instead of 'origin' to track upstream\n",
            "    -b, --[no-]branch <branch>\n",
            "                          checkout <branch> instead of the remote's HEAD\n",
            "    -u, --[no-]upload-pack <path>\n",
            "                          path to git-upload-pack on the remote\n",
            "    --[no-]depth <depth>  create a shallow clone of that depth\n",
            "    --[no-]shallow-since <time>\n",
            "                          create a shallow clone since a specific time\n",
            "    --[no-]shallow-exclude <revision>\n",
            "                          deepen history of shallow clone, excluding rev\n",
            "    --[no-]single-branch  clone only one branch, HEAD or --branch\n",
            "    --no-tags             don't clone any tags, and make later fetches not to follow them\n",
            "    --tags                opposite of --no-tags\n",
            "    --[no-]shallow-submodules\n",
            "                          any cloned submodules will be shallow\n",
            "    --[no-]separate-git-dir <gitdir>\n",
            "                          separate git dir from working tree\n",
            "    -c, --[no-]config <key=value>\n",
            "                          set config inside the new repository\n",
            "    --[no-]server-option <server-specific>\n",
            "                          option to transmit\n",
            "    -4, --ipv4            use IPv4 addresses only\n",
            "    -6, --ipv6            use IPv6 addresses only\n",
            "    --[no-]filter <args>  object filtering\n",
            "    --[no-]also-filter-submodules\n",
            "                          apply partial clone filters to submodules\n",
            "    --[no-]remote-submodules\n",
            "                          any cloned submodules will use their remote-tracking branch\n",
            "    --[no-]sparse         initialize sparse-checkout file to include only files at root\n",
            "    --[no-]bundle-uri <uri>\n",
            "                          a URI for downloading bundles before fetching from origin remote\n",
            "\n",
            "'mv' is not recognized as an internal or external command,\n",
            "operable program or batch file.\n"
          ]
        },
        {
          "name": "stdout",
          "output_type": "stream",
          "text": [
            "Note: you may need to restart the kernel to use updated packages.\n"
          ]
        },
        {
          "name": "stderr",
          "output_type": "stream",
          "text": [
            "ERROR: Invalid requirement: '#'\n"
          ]
        },
        {
          "ename": "AttributeError",
          "evalue": "module 'utils' has no attribute 'notebook_init'",
          "output_type": "error",
          "traceback": [
            "\u001b[1;31m---------------------------------------------------------------------------\u001b[0m",
            "\u001b[1;31mAttributeError\u001b[0m                            Traceback (most recent call last)",
            "Cell \u001b[1;32mIn[11], line 10\u001b[0m\n\u001b[0;32m      8\u001b[0m \u001b[38;5;28;01mimport\u001b[39;00m \u001b[38;5;21;01mtorch\u001b[39;00m\n\u001b[0;32m      9\u001b[0m \u001b[38;5;28;01mimport\u001b[39;00m \u001b[38;5;21;01mutils\u001b[39;00m\n\u001b[1;32m---> 10\u001b[0m display \u001b[38;5;241m=\u001b[39m \u001b[43mutils\u001b[49m\u001b[38;5;241;43m.\u001b[39;49m\u001b[43mnotebook_init\u001b[49m()  \u001b[38;5;66;03m# checks\u001b[39;00m\n",
            "\u001b[1;31mAttributeError\u001b[0m: module 'utils' has no attribute 'notebook_init'"
          ]
        }
      ],
      "source": [
        "import sys\n",
        "\n",
        "!git clone https://github.com/ultralytics/yolov5 --tag 6.2  # clone\n",
        "!mv /content/6.2 /content/yolov5\n",
        "%pip install -qr /content/yolov5/requirements.txt  # install\n",
        "sys.path.insert(0,'/content/yolov5')\n",
        "\n",
        "import torch\n",
        "import utils\n",
        "display = utils.notebook_init()  # checks"
      ]
    },
    {
      "cell_type": "code",
      "execution_count": 9,
      "metadata": {
        "colab": {
          "base_uri": "https://localhost:8080/",
          "height": 674
        },
        "id": "1slsiEpR5nux",
        "outputId": "db0b0525-b8fb-41d7-85c9-2c5c939b547b"
      },
      "outputs": [
        {
          "name": "stderr",
          "output_type": "stream",
          "text": [
            "'rm' is not recognized as an internal or external command,\n",
            "operable program or batch file.\n",
            "C:\\Users\\hurdg\\AppData\\Local\\Microsoft\\WindowsApps\\PythonSoftwareFoundation.Python.3.12_qbz5n2kfra8p0\\python.exe: can't open file 'c:\\\\content\\\\yolov5\\\\detect.py': [Errno 2] No such file or directory\n"
          ]
        },
        {
          "ename": "IndexError",
          "evalue": "list index out of range",
          "output_type": "error",
          "traceback": [
            "\u001b[1;31m---------------------------------------------------------------------------\u001b[0m",
            "\u001b[1;31mIndexError\u001b[0m                                Traceback (most recent call last)",
            "Cell \u001b[1;32mIn[9], line 32\u001b[0m\n\u001b[0;32m     29\u001b[0m get_ipython()\u001b[38;5;241m.\u001b[39msystem(\u001b[38;5;124m'\u001b[39m\u001b[38;5;124mpython /content/yolov5/detect.py --weights yolov5s.pt --img 1024    --conf 0.25 --source \u001b[39m\u001b[38;5;132;01m{images_dir}\u001b[39;00m\u001b[38;5;124m'\u001b[39m)\n\u001b[0;32m     31\u001b[0m \u001b[38;5;66;03m# Since YOLOv5 increments the output folder for each run, find the latest output directory\u001b[39;00m\n\u001b[1;32m---> 32\u001b[0m latest_run_dir \u001b[38;5;241m=\u001b[39m \u001b[38;5;28;43msorted\u001b[39;49m\u001b[43m(\u001b[49m\u001b[43m[\u001b[49m\u001b[43mos\u001b[49m\u001b[38;5;241;43m.\u001b[39;49m\u001b[43mpath\u001b[49m\u001b[38;5;241;43m.\u001b[39;49m\u001b[43mjoin\u001b[49m\u001b[43m(\u001b[49m\u001b[43myolo_output_dir\u001b[49m\u001b[43m,\u001b[49m\u001b[43m \u001b[49m\u001b[43md\u001b[49m\u001b[43m)\u001b[49m\u001b[43m \u001b[49m\u001b[38;5;28;43;01mfor\u001b[39;49;00m\u001b[43m \u001b[49m\u001b[43md\u001b[49m\u001b[43m \u001b[49m\u001b[38;5;129;43;01min\u001b[39;49;00m\u001b[43m \u001b[49m\u001b[43mos\u001b[49m\u001b[38;5;241;43m.\u001b[39;49m\u001b[43mlistdir\u001b[49m\u001b[43m(\u001b[49m\u001b[43myolo_output_dir\u001b[49m\u001b[43m)\u001b[49m\u001b[43m \u001b[49m\u001b[38;5;28;43;01mif\u001b[39;49;00m\u001b[43m \u001b[49m\u001b[43mos\u001b[49m\u001b[38;5;241;43m.\u001b[39;49m\u001b[43mpath\u001b[49m\u001b[38;5;241;43m.\u001b[39;49m\u001b[43misdir\u001b[49m\u001b[43m(\u001b[49m\u001b[43mos\u001b[49m\u001b[38;5;241;43m.\u001b[39;49m\u001b[43mpath\u001b[49m\u001b[38;5;241;43m.\u001b[39;49m\u001b[43mjoin\u001b[49m\u001b[43m(\u001b[49m\u001b[43myolo_output_dir\u001b[49m\u001b[43m,\u001b[49m\u001b[43m \u001b[49m\u001b[43md\u001b[49m\u001b[43m)\u001b[49m\u001b[43m)\u001b[49m\u001b[43m]\u001b[49m\u001b[43m)\u001b[49m\u001b[43m[\u001b[49m\u001b[38;5;241;43m-\u001b[39;49m\u001b[38;5;241;43m1\u001b[39;49m\u001b[43m]\u001b[49m\n\u001b[0;32m     35\u001b[0m detected_image_path \u001b[38;5;241m=\u001b[39m os\u001b[38;5;241m.\u001b[39mpath\u001b[38;5;241m.\u001b[39mjoin(latest_run_dir, image_name)\n\u001b[0;32m     37\u001b[0m display(Image(filename\u001b[38;5;241m=\u001b[39mdetected_image_path, width\u001b[38;5;241m=\u001b[39m\u001b[38;5;241m600\u001b[39m))\n",
            "\u001b[1;31mIndexError\u001b[0m: list index out of range"
          ]
        }
      ],
      "source": [
        "import urllib.request\n",
        "import shutil\n",
        "import os\n",
        "from IPython.display import Image, display\n",
        "\n",
        "#\n",
        "image_url = df.loc[5, 'URL']\n",
        "image_name = \"image_0.jpg\"\n",
        "\n",
        "# Directories setup\n",
        "images_dir = \"/content/images/\"\n",
        "yolo_output_dir = \"/content/yolov5/runs/detect/\"\n",
        "\n",
        "# Ensure the directories exist\n",
        "os.makedirs(images_dir, exist_ok=True)\n",
        "os.makedirs(yolo_output_dir, exist_ok=True)\n",
        "\n",
        "# Clear previous YOLO runs to avoid clutter\n",
        "!rm -rf {yolo_output_dir}*\n",
        "\n",
        "# Local file path where the image will be saved\n",
        "local_img_file = os.path.join(images_dir, image_name)\n",
        "\n",
        "# Download and save the image\n",
        "with urllib.request.urlopen(image_url) as response, open(local_img_file, 'wb') as out_file:\n",
        "    shutil.copyfileobj(response, out_file)\n",
        "\n",
        "# Run YOLOv5 to classify the downloaded image\n",
        "!python /content/yolov5/detect.py --weights yolov5s.pt --img 1024 \\\n",
        "  --conf 0.25 --source {images_dir}\n",
        "\n",
        "# Since YOLOv5 increments the output folder for each run, find the latest output directory\n",
        "latest_run_dir = sorted([os.path.join(yolo_output_dir, d) for d in os.listdir(yolo_output_dir) if os.path.isdir(os.path.join(yolo_output_dir, d))])[-1]\n",
        "\n",
        "\n",
        "detected_image_path = os.path.join(latest_run_dir, image_name)\n",
        "\n",
        "display(Image(filename=detected_image_path, width=600))\n"
      ]
    },
    {
      "cell_type": "markdown",
      "metadata": {
        "id": "cSvTe_R76RBi"
      },
      "source": [
        "Sets up the directories for storing images and YOLOv5 outputs.\n",
        "Clears the YOLOv5 detect output directory to avoid clutter from previous runs.\n",
        "Downloads the specified image from your DataFrame and saves it locally.\n",
        "Runs the YOLOv5 model on the saved image to perform object detection.\n",
        "Finds the latest output directory created by YOLOv5 (since YOLOv5 creates a new directory for each run) and constructs the path to the detected image.\n",
        "Displays the image with detected objects using IPython's Image display function."
      ]
    },
    {
      "cell_type": "code",
      "execution_count": 8,
      "metadata": {
        "colab": {
          "base_uri": "https://localhost:8080/",
          "height": 399
        },
        "id": "SVQVzaCEhPdR",
        "outputId": "f99ae870-1a3f-439a-e4a8-ffbd80efad5c"
      },
      "outputs": [
        {
          "name": "stderr",
          "output_type": "stream",
          "text": [
            "c:\\Users\\hurdg\\Documents\\MDSA\\DATA 608\\project\\data608\\.venv\\Lib\\site-packages\\torch\\hub.py:294: UserWarning: You are about to download and run code from an untrusted repository. In a future release, this won't be allowed. To add the repository to your trusted list, change the command to {calling_fn}(..., trust_repo=False) and a command prompt will appear asking for an explicit confirmation of trust, or load(..., trust_repo=True), which will assume that the prompt is to be answered with 'yes'. You can also use load(..., trust_repo='check') which will only prompt for confirmation if the repo is not already trusted. This will eventually be the default behaviour\n",
            "  warnings.warn(\n",
            "Downloading: \"https://github.com/ultralytics/yolov5/zipball/master\" to C:\\Users\\hurdg/.cache\\torch\\hub\\master.zip\n"
          ]
        },
        {
          "ename": "ModuleNotFoundError",
          "evalue": "No module named 'cv2'",
          "output_type": "error",
          "traceback": [
            "\u001b[1;31m---------------------------------------------------------------------------\u001b[0m",
            "\u001b[1;31mModuleNotFoundError\u001b[0m                       Traceback (most recent call last)",
            "Cell \u001b[1;32mIn[8], line 3\u001b[0m\n\u001b[0;32m      1\u001b[0m \u001b[38;5;28;01mimport\u001b[39;00m \u001b[38;5;21;01mtorch\u001b[39;00m\n\u001b[1;32m----> 3\u001b[0m yolo_model \u001b[38;5;241m=\u001b[39m \u001b[43mtorch\u001b[49m\u001b[38;5;241;43m.\u001b[39;49m\u001b[43mhub\u001b[49m\u001b[38;5;241;43m.\u001b[39;49m\u001b[43mload\u001b[49m\u001b[43m(\u001b[49m\u001b[38;5;124;43m'\u001b[39;49m\u001b[38;5;124;43multralytics/yolov5\u001b[39;49m\u001b[38;5;124;43m'\u001b[39;49m\u001b[43m,\u001b[49m\u001b[43m \u001b[49m\u001b[38;5;124;43m'\u001b[39;49m\u001b[38;5;124;43myolov5s\u001b[39;49m\u001b[38;5;124;43m'\u001b[39;49m\u001b[43m)\u001b[49m\n\u001b[0;32m      5\u001b[0m results \u001b[38;5;241m=\u001b[39m yolo_model(local_img_file)\n\u001b[0;32m      7\u001b[0m dt \u001b[38;5;241m=\u001b[39m results\u001b[38;5;241m.\u001b[39mpandas()\u001b[38;5;241m.\u001b[39mxyxy[\u001b[38;5;241m0\u001b[39m]\n",
            "File \u001b[1;32mc:\\Users\\hurdg\\Documents\\MDSA\\DATA 608\\project\\data608\\.venv\\Lib\\site-packages\\torch\\hub.py:566\u001b[0m, in \u001b[0;36mload\u001b[1;34m(repo_or_dir, model, source, trust_repo, force_reload, verbose, skip_validation, *args, **kwargs)\u001b[0m\n\u001b[0;32m    562\u001b[0m \u001b[38;5;28;01mif\u001b[39;00m source \u001b[38;5;241m==\u001b[39m \u001b[38;5;124m'\u001b[39m\u001b[38;5;124mgithub\u001b[39m\u001b[38;5;124m'\u001b[39m:\n\u001b[0;32m    563\u001b[0m     repo_or_dir \u001b[38;5;241m=\u001b[39m _get_cache_or_reload(repo_or_dir, force_reload, trust_repo, \u001b[38;5;124m\"\u001b[39m\u001b[38;5;124mload\u001b[39m\u001b[38;5;124m\"\u001b[39m,\n\u001b[0;32m    564\u001b[0m                                        verbose\u001b[38;5;241m=\u001b[39mverbose, skip_validation\u001b[38;5;241m=\u001b[39mskip_validation)\n\u001b[1;32m--> 566\u001b[0m model \u001b[38;5;241m=\u001b[39m \u001b[43m_load_local\u001b[49m\u001b[43m(\u001b[49m\u001b[43mrepo_or_dir\u001b[49m\u001b[43m,\u001b[49m\u001b[43m \u001b[49m\u001b[43mmodel\u001b[49m\u001b[43m,\u001b[49m\u001b[43m \u001b[49m\u001b[38;5;241;43m*\u001b[39;49m\u001b[43margs\u001b[49m\u001b[43m,\u001b[49m\u001b[43m \u001b[49m\u001b[38;5;241;43m*\u001b[39;49m\u001b[38;5;241;43m*\u001b[39;49m\u001b[43mkwargs\u001b[49m\u001b[43m)\u001b[49m\n\u001b[0;32m    567\u001b[0m \u001b[38;5;28;01mreturn\u001b[39;00m model\n",
            "File \u001b[1;32mc:\\Users\\hurdg\\Documents\\MDSA\\DATA 608\\project\\data608\\.venv\\Lib\\site-packages\\torch\\hub.py:595\u001b[0m, in \u001b[0;36m_load_local\u001b[1;34m(hubconf_dir, model, *args, **kwargs)\u001b[0m\n\u001b[0;32m    592\u001b[0m     hub_module \u001b[38;5;241m=\u001b[39m _import_module(MODULE_HUBCONF, hubconf_path)\n\u001b[0;32m    594\u001b[0m     entry \u001b[38;5;241m=\u001b[39m _load_entry_from_hubconf(hub_module, model)\n\u001b[1;32m--> 595\u001b[0m     model \u001b[38;5;241m=\u001b[39m \u001b[43mentry\u001b[49m\u001b[43m(\u001b[49m\u001b[38;5;241;43m*\u001b[39;49m\u001b[43margs\u001b[49m\u001b[43m,\u001b[49m\u001b[43m \u001b[49m\u001b[38;5;241;43m*\u001b[39;49m\u001b[38;5;241;43m*\u001b[39;49m\u001b[43mkwargs\u001b[49m\u001b[43m)\u001b[49m\n\u001b[0;32m    597\u001b[0m \u001b[38;5;28;01mreturn\u001b[39;00m model\n",
            "File \u001b[1;32m~/.cache\\torch\\hub\\ultralytics_yolov5_master\\hubconf.py:102\u001b[0m, in \u001b[0;36myolov5s\u001b[1;34m(pretrained, channels, classes, autoshape, _verbose, device)\u001b[0m\n\u001b[0;32m     98\u001b[0m \u001b[38;5;28;01mdef\u001b[39;00m \u001b[38;5;21myolov5s\u001b[39m(pretrained\u001b[38;5;241m=\u001b[39m\u001b[38;5;28;01mTrue\u001b[39;00m, channels\u001b[38;5;241m=\u001b[39m\u001b[38;5;241m3\u001b[39m, classes\u001b[38;5;241m=\u001b[39m\u001b[38;5;241m80\u001b[39m, autoshape\u001b[38;5;241m=\u001b[39m\u001b[38;5;28;01mTrue\u001b[39;00m, _verbose\u001b[38;5;241m=\u001b[39m\u001b[38;5;28;01mTrue\u001b[39;00m, device\u001b[38;5;241m=\u001b[39m\u001b[38;5;28;01mNone\u001b[39;00m):\n\u001b[0;32m     99\u001b[0m \u001b[38;5;250m    \u001b[39m\u001b[38;5;124;03m\"\"\"Creates YOLOv5-small model with options for pretraining, input channels, class count, autoshaping, verbosity, and\u001b[39;00m\n\u001b[0;32m    100\u001b[0m \u001b[38;5;124;03m    device.\u001b[39;00m\n\u001b[0;32m    101\u001b[0m \u001b[38;5;124;03m    \"\"\"\u001b[39;00m\n\u001b[1;32m--> 102\u001b[0m     \u001b[38;5;28;01mreturn\u001b[39;00m \u001b[43m_create\u001b[49m\u001b[43m(\u001b[49m\u001b[38;5;124;43m\"\u001b[39;49m\u001b[38;5;124;43myolov5s\u001b[39;49m\u001b[38;5;124;43m\"\u001b[39;49m\u001b[43m,\u001b[49m\u001b[43m \u001b[49m\u001b[43mpretrained\u001b[49m\u001b[43m,\u001b[49m\u001b[43m \u001b[49m\u001b[43mchannels\u001b[49m\u001b[43m,\u001b[49m\u001b[43m \u001b[49m\u001b[43mclasses\u001b[49m\u001b[43m,\u001b[49m\u001b[43m \u001b[49m\u001b[43mautoshape\u001b[49m\u001b[43m,\u001b[49m\u001b[43m \u001b[49m\u001b[43m_verbose\u001b[49m\u001b[43m,\u001b[49m\u001b[43m \u001b[49m\u001b[43mdevice\u001b[49m\u001b[43m)\u001b[49m\n",
            "File \u001b[1;32m~/.cache\\torch\\hub\\ultralytics_yolov5_master\\hubconf.py:34\u001b[0m, in \u001b[0;36m_create\u001b[1;34m(name, pretrained, channels, classes, autoshape, verbose, device)\u001b[0m\n\u001b[0;32m     17\u001b[0m \u001b[38;5;250m\u001b[39m\u001b[38;5;124;03m\"\"\"\u001b[39;00m\n\u001b[0;32m     18\u001b[0m \u001b[38;5;124;03mCreates or loads a YOLOv5 model.\u001b[39;00m\n\u001b[0;32m     19\u001b[0m \n\u001b[1;32m   (...)\u001b[0m\n\u001b[0;32m     30\u001b[0m \u001b[38;5;124;03m    YOLOv5 model\u001b[39;00m\n\u001b[0;32m     31\u001b[0m \u001b[38;5;124;03m\"\"\"\u001b[39;00m\n\u001b[0;32m     32\u001b[0m \u001b[38;5;28;01mfrom\u001b[39;00m \u001b[38;5;21;01mpathlib\u001b[39;00m \u001b[38;5;28;01mimport\u001b[39;00m Path\n\u001b[1;32m---> 34\u001b[0m \u001b[38;5;28;01mfrom\u001b[39;00m \u001b[38;5;21;01mmodels\u001b[39;00m\u001b[38;5;21;01m.\u001b[39;00m\u001b[38;5;21;01mcommon\u001b[39;00m \u001b[38;5;28;01mimport\u001b[39;00m AutoShape, DetectMultiBackend\n\u001b[0;32m     35\u001b[0m \u001b[38;5;28;01mfrom\u001b[39;00m \u001b[38;5;21;01mmodels\u001b[39;00m\u001b[38;5;21;01m.\u001b[39;00m\u001b[38;5;21;01mexperimental\u001b[39;00m \u001b[38;5;28;01mimport\u001b[39;00m attempt_load\n\u001b[0;32m     36\u001b[0m \u001b[38;5;28;01mfrom\u001b[39;00m \u001b[38;5;21;01mmodels\u001b[39;00m\u001b[38;5;21;01m.\u001b[39;00m\u001b[38;5;21;01myolo\u001b[39;00m \u001b[38;5;28;01mimport\u001b[39;00m ClassificationModel, DetectionModel, SegmentationModel\n",
            "File \u001b[1;32m~/.cache\\torch\\hub\\ultralytics_yolov5_master\\models\\common.py:16\u001b[0m\n\u001b[0;32m     13\u001b[0m \u001b[38;5;28;01mfrom\u001b[39;00m \u001b[38;5;21;01mpathlib\u001b[39;00m \u001b[38;5;28;01mimport\u001b[39;00m Path\n\u001b[0;32m     14\u001b[0m \u001b[38;5;28;01mfrom\u001b[39;00m \u001b[38;5;21;01murllib\u001b[39;00m\u001b[38;5;21;01m.\u001b[39;00m\u001b[38;5;21;01mparse\u001b[39;00m \u001b[38;5;28;01mimport\u001b[39;00m urlparse\n\u001b[1;32m---> 16\u001b[0m \u001b[38;5;28;01mimport\u001b[39;00m \u001b[38;5;21;01mcv2\u001b[39;00m\n\u001b[0;32m     17\u001b[0m \u001b[38;5;28;01mimport\u001b[39;00m \u001b[38;5;21;01mnumpy\u001b[39;00m \u001b[38;5;28;01mas\u001b[39;00m \u001b[38;5;21;01mnp\u001b[39;00m\n\u001b[0;32m     18\u001b[0m \u001b[38;5;28;01mimport\u001b[39;00m \u001b[38;5;21;01mpandas\u001b[39;00m \u001b[38;5;28;01mas\u001b[39;00m \u001b[38;5;21;01mpd\u001b[39;00m\n",
            "\u001b[1;31mModuleNotFoundError\u001b[0m: No module named 'cv2'"
          ]
        }
      ],
      "source": [
        "import torch\n",
        "\n",
        "yolo_model = torch.hub.load('ultralytics/yolov5', 'yolov5s')\n",
        "\n",
        "results = yolo_model(local_img_file)\n",
        "\n",
        "dt = results.pandas().xyxy[0]\n",
        "dt"
      ]
    },
    {
      "cell_type": "code",
      "execution_count": 10,
      "metadata": {
        "colab": {
          "base_uri": "https://localhost:8080/",
          "height": 142
        },
        "id": "A4preW_Uh3QJ",
        "outputId": "0dbda34c-3853-4395-f070-dc1688985a8f"
      },
      "outputs": [
        {
          "ename": "NameError",
          "evalue": "name 'dt' is not defined",
          "output_type": "error",
          "traceback": [
            "\u001b[1;31m---------------------------------------------------------------------------\u001b[0m",
            "\u001b[1;31mNameError\u001b[0m                                 Traceback (most recent call last)",
            "Cell \u001b[1;32mIn[10], line 1\u001b[0m\n\u001b[1;32m----> 1\u001b[0m dt2 \u001b[38;5;241m=\u001b[39m \u001b[43mdt\u001b[49m[[\u001b[38;5;124m'\u001b[39m\u001b[38;5;124mname\u001b[39m\u001b[38;5;124m'\u001b[39m, \u001b[38;5;124m'\u001b[39m\u001b[38;5;124mclass\u001b[39m\u001b[38;5;124m'\u001b[39m]]\u001b[38;5;241m.\u001b[39mgroupby(by\u001b[38;5;241m=\u001b[39m[\u001b[38;5;124m\"\u001b[39m\u001b[38;5;124mname\u001b[39m\u001b[38;5;124m\"\u001b[39m])\u001b[38;5;241m.\u001b[39mcount()\u001b[38;5;241m.\u001b[39mreset_index()\n\u001b[0;32m      2\u001b[0m dt2\u001b[38;5;241m.\u001b[39mcolumns\u001b[38;5;241m=\u001b[39m[\u001b[38;5;124m'\u001b[39m\u001b[38;5;124mname\u001b[39m\u001b[38;5;124m'\u001b[39m, \u001b[38;5;124m'\u001b[39m\u001b[38;5;124mcount\u001b[39m\u001b[38;5;124m'\u001b[39m]\n\u001b[0;32m      3\u001b[0m dt2\n",
            "\u001b[1;31mNameError\u001b[0m: name 'dt' is not defined"
          ]
        }
      ],
      "source": [
        "dt2 = dt[['name', 'class']].groupby(by=[\"name\"]).count().reset_index()\n",
        "dt2.columns=['name', 'count']\n",
        "dt2"
      ]
    }
  ],
  "metadata": {
    "colab": {
      "provenance": []
    },
    "kernelspec": {
      "display_name": "Python 3",
      "name": "python3"
    },
    "language_info": {
      "codemirror_mode": {
        "name": "ipython",
        "version": 3
      },
      "file_extension": ".py",
      "mimetype": "text/x-python",
      "name": "python",
      "nbconvert_exporter": "python",
      "pygments_lexer": "ipython3",
      "version": "3.12.2"
    }
  },
  "nbformat": 4,
  "nbformat_minor": 0
}
